{
 "cells": [
  {
   "cell_type": "markdown",
   "metadata": {
    "id": "5UW_wUJF442S"
   },
   "source": [
    "# **Topic 01 = Python Pandas Series**"
   ]
  },
  {
   "cell_type": "markdown",
   "metadata": {
    "id": "ZNO1qEzX5N8W"
   },
   "source": [
    "**Create an empty Series**"
   ]
  },
  {
   "cell_type": "markdown",
   "metadata": {
    "id": "rcjlZVh35Rrc"
   },
   "source": [
    "**Example**"
   ]
  },
  {
   "cell_type": "code",
   "execution_count": 2,
   "metadata": {
    "id": "F5kdC55u4tq1"
   },
   "outputs": [
    {
     "name": "stdout",
     "output_type": "stream",
     "text": [
      "Series([], dtype: object)\n"
     ]
    }
   ],
   "source": [
    "import pandas as pd\n",
    "x = pd.Series()\n",
    "print(x)"
   ]
  },
  {
   "cell_type": "markdown",
   "metadata": {
    "id": "sK6QEYGR6dwn"
   },
   "source": [
    "**Creating a Series using inputs:**\n",
    "\n",
    "We can create Series by using various inputs:\n",
    "\n",
    "1. Array\n",
    "2. Dict\n",
    "3. Scalar value"
   ]
  },
  {
   "cell_type": "markdown",
   "metadata": {
    "id": "89qFIrn-62JK"
   },
   "source": [
    "**1. Creating Series from Array:**"
   ]
  },
  {
   "cell_type": "markdown",
   "metadata": {
    "id": "BAK5EaLk9Ny2"
   },
   "source": [
    "**Example 1: Create a Series from a String array:**"
   ]
  },
  {
   "cell_type": "code",
   "execution_count": 3,
   "metadata": {
    "id": "JG_mu8iV69tv"
   },
   "outputs": [
    {
     "name": "stdout",
     "output_type": "stream",
     "text": [
      "0    2\n",
      "1    3\n",
      "2    4\n",
      "3    5\n",
      "4    6\n",
      "dtype: int32 0    Zeeshan\n",
      "1       Eisa\n",
      "2      Fahim\n",
      "3       Dani\n",
      "4      Imran\n",
      "dtype: object\n"
     ]
    }
   ],
   "source": [
    "import pandas as pd\n",
    "import numpy as np\n",
    "\n",
    "a = np.array([2 , 3 , 4 , 5 , 6])\n",
    "b = np.array(['Zeeshan' , 'Eisa' , 'Fahim' , 'Dani' , 'Imran'])\n",
    "\n",
    "c = pd.Series(a)\n",
    "d = pd.Series(b)\n",
    "print(c , d)"
   ]
  },
  {
   "cell_type": "markdown",
   "metadata": {
    "id": "lkcsI5YC79Br"
   },
   "source": [
    "**Example 02: Create a Series from a one-dimensional array**"
   ]
  },
  {
   "cell_type": "code",
   "execution_count": 4,
   "metadata": {
    "id": "Nuxt_xa_8Sr6"
   },
   "outputs": [
    {
     "name": "stdout",
     "output_type": "stream",
     "text": [
      "0    1\n",
      "1    2\n",
      "2    3\n",
      "3    4\n",
      "4    5\n",
      "dtype: Int64\n"
     ]
    }
   ],
   "source": [
    "import pandas as np\n",
    "\n",
    "a = np.array([1 , 2 , 3 , 4 , 5])\n",
    "b = pd.Series(a)\n",
    "print(b)"
   ]
  },
  {
   "cell_type": "markdown",
   "metadata": {
    "id": "AnvZxo6l_uSk"
   },
   "source": [
    "# **2.  Create a Series from dict:**"
   ]
  },
  {
   "cell_type": "markdown",
   "metadata": {
    "id": "SYxLZLgiAs9H"
   },
   "source": [
    "**Example 1: Create a Series from a dictionary with default index:**"
   ]
  },
  {
   "cell_type": "code",
   "execution_count": 6,
   "metadata": {
    "id": "t0fzepTOAykp"
   },
   "outputs": [
    {
     "name": "stdout",
     "output_type": "stream",
     "text": [
      "Apple      2\n",
      "Mango      5\n",
      "Grapes    23\n",
      "dtype: int64\n"
     ]
    }
   ],
   "source": [
    "import pandas as pd\n",
    "\n",
    "fruits = pd.Series({ 10 : 'Apple' , 15 : 'Banana' , 20 : 'Orange' })\n",
    "fruits = pd.Series({ 'Apple' : 2 , 'Mango' : 5 , 'Grapes' : 23 })\n",
    "\n",
    "print(fruits)"
   ]
  },
  {
   "cell_type": "markdown",
   "metadata": {
    "id": "nvtooeTmAs2u"
   },
   "source": [
    "**Example 2:Create a Series from a dictionary with mixed data types**"
   ]
  },
  {
   "cell_type": "code",
   "execution_count": 7,
   "metadata": {
    "id": "VncbGba3BeGA"
   },
   "outputs": [
    {
     "name": "stdout",
     "output_type": "stream",
     "text": [
      "apple        5\n",
      "banana     ten\n",
      "orange    15.0\n",
      "dtype: object\n"
     ]
    }
   ],
   "source": [
    "import pandas as pd\n",
    "\n",
    "data = {'apple': 5, 'banana': 'ten', 'orange': 15.0 }\n",
    "series = pd.Series(data)\n",
    "\n",
    "print(series)"
   ]
  },
  {
   "cell_type": "markdown",
   "metadata": {
    "id": "FhBUc9idC_lR"
   },
   "source": [
    "**3.  Create a Series using Scalar:**"
   ]
  },
  {
   "cell_type": "markdown",
   "metadata": {
    "id": "7Da0bkdmDfLj"
   },
   "source": [
    "**Example 01: create a Series using a scalar value:**"
   ]
  },
  {
   "cell_type": "code",
   "execution_count": 8,
   "metadata": {
    "id": "sx8bcEqdDlKd"
   },
   "outputs": [
    {
     "name": "stdout",
     "output_type": "stream",
     "text": [
      "0    10\n",
      "dtype: int64\n"
     ]
    }
   ],
   "source": [
    "import pandas as pd\n",
    "\n",
    "series = pd.Series(10)\n",
    "\n",
    "print(series)"
   ]
  },
  {
   "cell_type": "markdown",
   "metadata": {
    "id": "zhki4MDPD1dU"
   },
   "source": [
    "**Example 02:  create a Series with multiple elements using a scalar value**:"
   ]
  },
  {
   "cell_type": "code",
   "execution_count": 9,
   "metadata": {
    "id": "OxZ7br9xDzaj"
   },
   "outputs": [
    {
     "name": "stdout",
     "output_type": "stream",
     "text": [
      "1    10\n",
      "2    10\n",
      "3    10\n",
      "4    10\n",
      "5    10\n",
      "6    10\n",
      "7    10\n",
      "8    10\n",
      "9    10\n",
      "0    10\n",
      "dtype: int64\n"
     ]
    }
   ],
   "source": [
    "import pandas as pd\n",
    "\n",
    "# create a Series with 3 elements, all with a scalar value of 10\n",
    "series = pd.Series(10,index=[1,2,3,4,5,6,7,8,9,0])\n",
    "\n",
    "print(series)"
   ]
  },
  {
   "cell_type": "markdown",
   "metadata": {
    "id": "51OZS-boFpNY"
   },
   "source": [
    "**Accessing data from series with Position:**"
   ]
  },
  {
   "cell_type": "markdown",
   "metadata": {
    "id": "tbwbQ76XGlTz"
   },
   "source": [
    "**Example 01: access the element at position 2:**"
   ]
  },
  {
   "cell_type": "code",
   "execution_count": 10,
   "metadata": {
    "id": "PUWV_nTjGZBY"
   },
   "outputs": [
    {
     "name": "stdout",
     "output_type": "stream",
     "text": [
      "ten      10\n",
      "2        20\n",
      "three    30\n",
      "4        40\n",
      "fifty    50\n",
      "dtype: int64\n",
      "\n",
      "20\n"
     ]
    }
   ],
   "source": [
    "import pandas as pd\n",
    "\n",
    "series = pd.Series([10, 20, 30, 40, 50] , index=['ten' , 2 , 'three' , 4 , 'fifty'])\n",
    "#series = pd.Series(1,2,3,4,5 ,index='ten',2,'three',4,'fifty')\n",
    "print(series)\n",
    "\n",
    "print()\n",
    "\n",
    "print(series[2]) #that is true\n",
    "# print(series[5])#an error is that index is  string fifty"
   ]
  },
  {
   "cell_type": "markdown",
   "metadata": {
    "id": "OY3xNG-QHQIr"
   },
   "source": [
    "**Example 02: access multiple elements from a Series by position using slicing:**"
   ]
  },
  {
   "cell_type": "code",
   "execution_count": 11,
   "metadata": {
    "id": "mmsObb4vHV4_"
   },
   "outputs": [
    {
     "name": "stdout",
     "output_type": "stream",
     "text": [
      "1    10\n",
      "2    20\n",
      "3    30\n",
      "4    40\n",
      "5    50\n",
      "dtype: int64\n",
      "Slicing\n",
      "3    30\n",
      "4    40\n",
      "dtype: int64\n"
     ]
    }
   ],
   "source": [
    "import pandas as pd\n",
    "\n",
    "series = pd.Series([10, 20, 30, 40, 50],index=[1 , 2 , 3 , 4 , 5])\n",
    "print(series)\n",
    "\n",
    "print(\"Slicing\")\n",
    "print(series[2:4])"
   ]
  },
  {
   "cell_type": "markdown",
   "metadata": {
    "id": "7Bp5FW30LFqG"
   },
   "source": [
    "**Series object attributes:**"
   ]
  },
  {
   "cell_type": "code",
   "execution_count": 12,
   "metadata": {
    "id": "TkqcLKoyIPE0"
   },
   "outputs": [
    {
     "name": "stdout",
     "output_type": "stream",
     "text": [
      "0    10\n",
      "1    20\n",
      "2    30\n",
      "3    40\n",
      "4    50\n",
      "dtype: int64\n"
     ]
    }
   ],
   "source": [
    "import pandas as pd\n",
    "\n",
    "series = pd.Series([10, 20, 30, 40,50 ])\n",
    "print(series)"
   ]
  },
  {
   "cell_type": "code",
   "execution_count": 13,
   "metadata": {
    "id": "t8fc28GrIton"
   },
   "outputs": [
    {
     "name": "stdout",
     "output_type": "stream",
     "text": [
      "RangeIndex(start=0, stop=5, step=1)\n"
     ]
    }
   ],
   "source": [
    "print(series.index)"
   ]
  },
  {
   "cell_type": "code",
   "execution_count": 14,
   "metadata": {
    "id": "pBn-t0lxItgT"
   },
   "outputs": [
    {
     "name": "stdout",
     "output_type": "stream",
     "text": [
      "int64\n"
     ]
    }
   ],
   "source": [
    "print(series.dtype)"
   ]
  },
  {
   "cell_type": "code",
   "execution_count": 15,
   "metadata": {
    "id": "m_JlJ2P_JK-r"
   },
   "outputs": [
    {
     "name": "stdout",
     "output_type": "stream",
     "text": [
      "5\n"
     ]
    }
   ],
   "source": [
    "print(series.size)"
   ]
  },
  {
   "cell_type": "code",
   "execution_count": 16,
   "metadata": {
    "id": "oIfA-YU1JM-e"
   },
   "outputs": [
    {
     "name": "stdout",
     "output_type": "stream",
     "text": [
      "False\n"
     ]
    }
   ],
   "source": [
    "print(series.empty)"
   ]
  },
  {
   "cell_type": "code",
   "execution_count": 17,
   "metadata": {
    "id": "oBMaVSrSJOYa"
   },
   "outputs": [
    {
     "name": "stdout",
     "output_type": "stream",
     "text": [
      "False\n"
     ]
    }
   ],
   "source": [
    "print(series.hasnans)"
   ]
  },
  {
   "cell_type": "code",
   "execution_count": 18,
   "metadata": {
    "id": "kDkBH8LOJOTX"
   },
   "outputs": [
    {
     "name": "stdout",
     "output_type": "stream",
     "text": [
      "40\n"
     ]
    }
   ],
   "source": [
    "print(series.nbytes)"
   ]
  },
  {
   "cell_type": "code",
   "execution_count": 19,
   "metadata": {
    "id": "pc4ltOoTJXmF"
   },
   "outputs": [
    {
     "name": "stdout",
     "output_type": "stream",
     "text": [
      "1\n"
     ]
    }
   ],
   "source": [
    "print(series.ndim)"
   ]
  },
  {
   "cell_type": "code",
   "execution_count": 20,
   "metadata": {
    "id": "AMbiI9R7Jaoo"
   },
   "outputs": [
    {
     "name": "stdout",
     "output_type": "stream",
     "text": [
      "None\n"
     ]
    }
   ],
   "source": [
    "print(series.name)"
   ]
  },
  {
   "cell_type": "markdown",
   "metadata": {
    "id": "vrkIiLs7Ol_2"
   },
   "source": [
    "**Creating a Series with custom index labels:**"
   ]
  },
  {
   "cell_type": "code",
   "execution_count": 21,
   "metadata": {
    "id": "ncTnwG4aO6WW"
   },
   "outputs": [
    {
     "name": "stdout",
     "output_type": "stream",
     "text": [
      "a    1\n",
      "b    2\n",
      "c    3\n",
      "d    4\n",
      "dtype: int64\n"
     ]
    }
   ],
   "source": [
    "import pandas as pd\n",
    "series = pd.Series([1,2,3,4],index =['a','b','c','d'])\n",
    "print(series)"
   ]
  },
  {
   "cell_type": "markdown",
   "metadata": {
    "id": "DkxWMiqgvM6x"
   },
   "source": [
    "**Retrieving Index array and data array of a series object**\n",
    "\n"
   ]
  },
  {
   "cell_type": "code",
   "execution_count": 22,
   "metadata": {
    "id": "zlQIfwQ9vW5Q"
   },
   "outputs": [
    {
     "name": "stdout",
     "output_type": "stream",
     "text": [
      "   Col\n",
      "1   10\n",
      "2   20\n",
      "3   30\n",
      "4   40\n",
      "5   50\n",
      "\n"
     ]
    }
   ],
   "source": [
    "import pandas as pd\n",
    "\n",
    "series1 = pd.Series([10, 20, 30, 40, 50], index=[1, 2, 3, 4, 5])\n",
    "df = pd.DataFrame({'Col': series1})\n",
    "print(df)\n",
    "print()"
   ]
  },
  {
   "cell_type": "markdown",
   "metadata": {
    "id": "tG1uDiqHwT0h"
   },
   "source": [
    "**Retrieving Types (dtype) and Size of Type (itemsize)**"
   ]
  },
  {
   "cell_type": "code",
   "execution_count": 23,
   "metadata": {
    "id": "OebDFvKgwWeQ"
   },
   "outputs": [
    {
     "name": "stdout",
     "output_type": "stream",
     "text": [
      "int64\n",
      "\n",
      "<bound method IndexOpsMixin.item of 0    1\n",
      "1    2\n",
      "2    3\n",
      "3    4\n",
      "dtype: int64>\n",
      "\n",
      "float64\n",
      "\n",
      "<bound method IndexOpsMixin.item of x    4.9\n",
      "y    8.2\n",
      "z    5.6\n",
      "dtype: float64>\n"
     ]
    }
   ],
   "source": [
    "import pandas as pd\n",
    "a=pd.Series(data=[1,2,3,4])\n",
    "b=pd.Series(data=[4.9,8.2,5.6],index=['x','y','z'])\n",
    "print(a.dtype)\n",
    "print()\n",
    "print(a.item)\n",
    "print()\n",
    "print(b.dtype)\n",
    "print()\n",
    "print(b.item)"
   ]
  },
  {
   "cell_type": "markdown",
   "metadata": {
    "id": "zbKnMYXSxMpy"
   },
   "source": [
    "**Retrieving Shape**"
   ]
  },
  {
   "cell_type": "code",
   "execution_count": 24,
   "metadata": {
    "id": "T8PFibPxxPLc"
   },
   "outputs": [
    {
     "name": "stdout",
     "output_type": "stream",
     "text": [
      "(4,)\n",
      "(3,)\n"
     ]
    }
   ],
   "source": [
    "import pandas as pd\n",
    "a=pd.Series(data=[1,2,3,4])\n",
    "b=pd.Series(data=[4.9,8.2,5.6],index=['x','y','z'])\n",
    "print(a.shape)\n",
    "print(b.shape)"
   ]
  },
  {
   "cell_type": "markdown",
   "metadata": {
    "id": "F2sbYiebxwm1"
   },
   "source": [
    "**1.1:Pandas Series.map()**"
   ]
  },
  {
   "cell_type": "code",
   "execution_count": 25,
   "metadata": {
    "id": "Lv6HjJVxzEFB"
   },
   "outputs": [
    {
     "data": {
      "text/plain": [
       "0    3.0\n",
       "1    NaN\n",
       "2    NaN\n",
       "3    3.0\n",
       "dtype: float64"
      ]
     },
     "execution_count": 25,
     "metadata": {},
     "output_type": "execute_result"
    }
   ],
   "source": [
    "import numpy as np\n",
    "import pandas as pd\n",
    "a = pd.Series(['Java', 'C', 'C++','Java' ])\n",
    "a.map({'Java': 3})"
   ]
  },
  {
   "cell_type": "markdown",
   "metadata": {
    "id": "OxIVGSh3znma"
   },
   "source": [
    "**1.5:Pandas Series.std()**"
   ]
  },
  {
   "cell_type": "code",
   "execution_count": 26,
   "metadata": {
    "id": "V-cDH8Q1iu1R"
   },
   "outputs": [
    {
     "name": "stdout",
     "output_type": "stream",
     "text": [
      "1.5907898179514348\n",
      "\n",
      "10.077252622027656\n"
     ]
    }
   ],
   "source": [
    "import pandas as pd\n",
    "print(np.std([2,3,4,5,5,6,7]))\n",
    "print()\n",
    "print(np.std([6,9,15,2,-17,15,4]))"
   ]
  },
  {
   "cell_type": "code",
   "execution_count": 27,
   "metadata": {
    "id": "2rb3UUn2zxQF"
   },
   "outputs": [
    {
     "name": "stdout",
     "output_type": "stream",
     "text": [
      "2.1147629234082532\n",
      "\n",
      "10.077252622027656\n"
     ]
    }
   ],
   "source": [
    "import pandas as pd\n",
    "print(np.std([4,7,2,1,6,3]))\n",
    "print()\n",
    "print(np.std([6,9,15,2,-17,15,4]))"
   ]
  },
  {
   "cell_type": "markdown",
   "metadata": {
    "id": "2FukdoEm0iOw"
   },
   "source": [
    "**1.3:Pandas Series.to_frame()**"
   ]
  },
  {
   "cell_type": "code",
   "execution_count": 28,
   "metadata": {
    "id": "eVCX7PZ30n57"
   },
   "outputs": [
    {
     "data": {
      "text/html": [
       "<div>\n",
       "<style scoped>\n",
       "    .dataframe tbody tr th:only-of-type {\n",
       "        vertical-align: middle;\n",
       "    }\n",
       "\n",
       "    .dataframe tbody tr th {\n",
       "        vertical-align: top;\n",
       "    }\n",
       "\n",
       "    .dataframe thead th {\n",
       "        text-align: right;\n",
       "    }\n",
       "</style>\n",
       "<table border=\"1\" class=\"dataframe\">\n",
       "  <thead>\n",
       "    <tr style=\"text-align: right;\">\n",
       "      <th></th>\n",
       "      <th>X</th>\n",
       "      <th>Y</th>\n",
       "    </tr>\n",
       "  </thead>\n",
       "  <tbody>\n",
       "    <tr>\n",
       "      <th>0</th>\n",
       "      <td>Parker</td>\n",
       "      <td>102</td>\n",
       "    </tr>\n",
       "    <tr>\n",
       "      <th>1</th>\n",
       "      <td>John</td>\n",
       "      <td>107</td>\n",
       "    </tr>\n",
       "    <tr>\n",
       "      <th>2</th>\n",
       "      <td>Smith</td>\n",
       "      <td>109</td>\n",
       "    </tr>\n",
       "    <tr>\n",
       "      <th>3</th>\n",
       "      <td>William</td>\n",
       "      <td>114</td>\n",
       "    </tr>\n",
       "  </tbody>\n",
       "</table>\n",
       "</div>"
      ],
      "text/plain": [
       "         X    Y\n",
       "0   Parker  102\n",
       "1     John  107\n",
       "2    Smith  109\n",
       "3  William  114"
      ]
     },
     "execution_count": 28,
     "metadata": {},
     "output_type": "execute_result"
    }
   ],
   "source": [
    "import pandas as pd\n",
    "a = pd.Series(['Parker', 'John', 'Smith', 'William'] )\n",
    "b = pd.Series([102, 107, 109, 114])\n",
    "frame = { 'X': a, 'Y':b }\n",
    "result = pd.DataFrame(frame)\n",
    "result"
   ]
  },
  {
   "cell_type": "code",
   "execution_count": 29,
   "metadata": {
    "id": "gEkNNpd80we4"
   },
   "outputs": [
    {
     "data": {
      "text/html": [
       "<div>\n",
       "<style scoped>\n",
       "    .dataframe tbody tr th:only-of-type {\n",
       "        vertical-align: middle;\n",
       "    }\n",
       "\n",
       "    .dataframe tbody tr th {\n",
       "        vertical-align: top;\n",
       "    }\n",
       "\n",
       "    .dataframe thead th {\n",
       "        text-align: right;\n",
       "    }\n",
       "</style>\n",
       "<table border=\"1\" class=\"dataframe\">\n",
       "  <thead>\n",
       "    <tr style=\"text-align: right;\">\n",
       "      <th></th>\n",
       "      <th>Country</th>\n",
       "      <th>Currancy</th>\n",
       "    </tr>\n",
       "  </thead>\n",
       "  <tbody>\n",
       "    <tr>\n",
       "      <th>0</th>\n",
       "      <td>Pakistan</td>\n",
       "      <td>102</td>\n",
       "    </tr>\n",
       "    <tr>\n",
       "      <th>1</th>\n",
       "      <td>India</td>\n",
       "      <td>107</td>\n",
       "    </tr>\n",
       "    <tr>\n",
       "      <th>2</th>\n",
       "      <td>Bangladesh</td>\n",
       "      <td>109</td>\n",
       "    </tr>\n",
       "    <tr>\n",
       "      <th>3</th>\n",
       "      <td>America</td>\n",
       "      <td>114</td>\n",
       "    </tr>\n",
       "  </tbody>\n",
       "</table>\n",
       "</div>"
      ],
      "text/plain": [
       "      Country  Currancy\n",
       "0    Pakistan       102\n",
       "1       India       107\n",
       "2  Bangladesh       109\n",
       "3     America       114"
      ]
     },
     "execution_count": 29,
     "metadata": {},
     "output_type": "execute_result"
    }
   ],
   "source": [
    "import pandas as pd\n",
    "a = pd.Series(['Pakistan', 'India', 'Bangladesh', 'America'])\n",
    "b = pd.Series([102, 107, 109, 114])\n",
    "frame = { 'Country': a, 'Currancy':b }\n",
    "result = pd.DataFrame(frame)\n",
    "result"
   ]
  },
  {
   "cell_type": "markdown",
   "metadata": {
    "id": "hYjRPo9i1TBK"
   },
   "source": [
    "**1.4:Pandas Series.unique()**"
   ]
  },
  {
   "cell_type": "code",
   "execution_count": 30,
   "metadata": {
    "id": "R01FnJ0j1X7c"
   },
   "outputs": [
    {
     "data": {
      "text/plain": [
       "array(['2016-01-01T00:00:00.000000000'], dtype='datetime64[ns]')"
      ]
     },
     "execution_count": 30,
     "metadata": {},
     "output_type": "execute_result"
    }
   ],
   "source": [
    "import pandas as pd\n",
    "pd.unique(pd.Series([2, 1, 3, 3]))\n",
    "pd.unique(pd.Series([pd.Timestamp('20160101'),pd.Timestamp('20160101')]))"
   ]
  },
  {
   "cell_type": "code",
   "execution_count": 31,
   "metadata": {
    "id": "cH3OptDv2QOQ"
   },
   "outputs": [
    {
     "name": "stdout",
     "output_type": "stream",
     "text": [
      "['red' 'green' 'blue' 'yellow']\n"
     ]
    }
   ],
   "source": [
    "import pandas as pd\n",
    "\n",
    "# create a series of colors\n",
    "colors =pd.Series(['red', 'green', 'blue', 'green', 'yellow', 'red'])\n",
    "\n",
    "# find the unique values in the series\n",
    "unique_colors = pd.unique(colors)\n",
    "\n",
    "print(unique_colors)"
   ]
  },
  {
   "cell_type": "markdown",
   "metadata": {
    "id": "FOUyyiHS3UMS"
   },
   "source": [
    "**1.5:Pandas Series.value_counts()**"
   ]
  },
  {
   "cell_type": "code",
   "execution_count": 32,
   "metadata": {
    "id": "3MSn1G4l3ZSu"
   },
   "outputs": [
    {
     "name": "stdout",
     "output_type": "stream",
     "text": [
      "apple     3\n",
      "kiwi      2\n",
      "banana    1\n",
      "orange    1\n",
      "Name: count, dtype: int64\n"
     ]
    }
   ],
   "source": [
    "import pandas as pd\n",
    "\n",
    "# create a series of fruits\n",
    "fruits = pd.Series(['apple', 'banana', 'apple', 'orange', 'kiwi', 'kiwi', 'apple'])\n",
    "\n",
    "# count the occurrence of each fruit in the series\n",
    "fruit_counts = fruits.value_counts()\n",
    "\n",
    "print(fruit_counts)"
   ]
  },
  {
   "cell_type": "code",
   "execution_count": 34,
   "metadata": {
    "id": "h9Pvlq9C2HET"
   },
   "outputs": [
    {
     "name": "stdout",
     "output_type": "stream",
     "text": [
      "english    3\n",
      "biology    3\n",
      "math       2\n",
      "urdu       2\n",
      "Name: count, dtype: int64\n"
     ]
    }
   ],
   "source": [
    "book = pd.Series(['english','biology','math','english','biology','urdu','math','english','biology','urdu'])\n",
    "book_counts = book.value_counts()\n",
    "print(book_counts)"
   ]
  },
  {
   "cell_type": "markdown",
   "metadata": {},
   "source": [
    "## Follow My Github Account : https://github.com/ZeshanFareed"
   ]
  }
 ],
 "metadata": {
  "colab": {
   "include_colab_link": true,
   "private_outputs": true,
   "provenance": []
  },
  "kernelspec": {
   "display_name": "Python 3 (ipykernel)",
   "language": "python",
   "name": "python3"
  },
  "language_info": {
   "codemirror_mode": {
    "name": "ipython",
    "version": 3
   },
   "file_extension": ".py",
   "mimetype": "text/x-python",
   "name": "python",
   "nbconvert_exporter": "python",
   "pygments_lexer": "ipython3",
   "version": "3.11.5"
  }
 },
 "nbformat": 4,
 "nbformat_minor": 4
}
