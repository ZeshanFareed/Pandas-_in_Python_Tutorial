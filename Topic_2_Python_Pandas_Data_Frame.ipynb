{
 "cells": [
  {
   "cell_type": "markdown",
   "metadata": {
    "id": "mWi3sFwRTUQe"
   },
   "source": [
    "**Topic 2: Python Pandas Data Frame**\n",
    "\n",
    "Pandas DataFrame is a widely used data structure which works with a two-dimensional array with labeled axes (rows and columns). DataFrame is defined as a standard way to store data that has two different indexes, i.e., row index and column index. It consists of the following properties:\n",
    "\n",
    "The columns can be heterogeneous types like int, bool, and so on.\n",
    "\n",
    "\n",
    "It can be seen as a dictionary of Series structure where both the rows and columns are indexed. It is denoted as \"columns\" in case of columns and \"index\" in case of rows.\n",
    "\n",
    "**Parameter & Description:**\n",
    "\n",
    "**data:** It consists of different forms like ndarray, series, map, constants, lists, array.\n",
    "\n",
    "**index:** The Default np.arrange(n) index is used for the row labels if no index is passed.\n",
    "\n",
    "**columns:** The default syntax is np.arrange(n) for the column labels. It shows only true if no index is passed.\n",
    "\n",
    "\n",
    "**dtype:** It refers to the data type of each column.\n",
    "\n",
    "**copy():** It is used for copying the data.\n",
    "\n",
    "**Create a DataFrame**\n",
    "\n",
    "We can create a DataFrame using following ways:\n",
    "\n",
    "1. empty\n",
    "2. list\n",
    "3. dict\n",
    "4. Numpy ndarrrays\n",
    "5. Series\n"
   ]
  },
  {
   "cell_type": "markdown",
   "metadata": {
    "id": "i5H2qtY0Vmzi"
   },
   "source": [
    "**1: Create an empty DataFrame**"
   ]
  },
  {
   "cell_type": "code",
   "execution_count": 1,
   "metadata": {
    "id": "kglJ3cyFVp8H",
    "scrolled": true
   },
   "outputs": [
    {
     "name": "stdout",
     "output_type": "stream",
     "text": [
      "Empty DataFrame\n",
      "Columns: []\n",
      "Index: []\n"
     ]
    }
   ],
   "source": [
    "import pandas as pd\n",
    "df = pd.DataFrame()\n",
    "print (df)"
   ]
  },
  {
   "cell_type": "markdown",
   "metadata": {
    "id": "P4rQc7W_Zo_7"
   },
   "source": [
    "This code will create an empty DataFrame with no columns and no rows. You can verify that the DataFrame is empty."
   ]
  },
  {
   "cell_type": "markdown",
   "metadata": {
    "id": "IXWSNsZnzjPr"
   },
   "source": [
    "**2: Create a DataFrame using List:**"
   ]
  },
  {
   "cell_type": "markdown",
   "metadata": {
    "id": "-rNTHoFdWP4_"
   },
   "source": [
    "**Method 01  \n",
    "To create DataFrame**"
   ]
  },
  {
   "cell_type": "code",
   "execution_count": 2,
   "metadata": {
    "id": "kn9PY2ZUVwHq"
   },
   "outputs": [
    {
     "name": "stdout",
     "output_type": "stream",
     "text": [
      "DataFrame: \n",
      "          0\n",
      "0    fahim\n",
      "1      Ali\n",
      "2  Muzamil\n"
     ]
    }
   ],
   "source": [
    "import pandas as pd\n",
    "\n",
    "names=['fahim' , 'Ali' , 'Muzamil']\n",
    "df=pd.DataFrame(names)\n",
    "\n",
    "print(\"DataFrame: \\n\" , df)"
   ]
  },
  {
   "cell_type": "code",
   "execution_count": 3,
   "metadata": {
    "id": "hmqREm3t3l6a"
   },
   "outputs": [
    {
     "name": "stdout",
     "output_type": "stream",
     "text": [
      "DataFrame: \n",
      "           0\n",
      "0   zeeshan\n",
      "1  rooshiii\n",
      "2      khan\n",
      "3     imran\n"
     ]
    }
   ],
   "source": [
    "import pandas as pd\n",
    "\n",
    "a = ['zeeshan','rooshiii','khan','imran']\n",
    "df = pd.DataFrame(a)\n",
    "\n",
    "print(\"DataFrame: \\n\" , df)"
   ]
  },
  {
   "cell_type": "markdown",
   "metadata": {
    "id": "_C5m5whSWolj"
   },
   "source": [
    "**Method 02\n",
    "  To create the DataFrame**"
   ]
  },
  {
   "cell_type": "code",
   "execution_count": 4,
   "metadata": {
    "id": "xn6icMmBW1Z1"
   },
   "outputs": [
    {
     "name": "stdout",
     "output_type": "stream",
     "text": [
      "      0   1           2\n",
      "0  John  25      Lahore\n",
      "1  Jane  23   Islamabad\n",
      "2  Mary  20  bahawalpur\n"
     ]
    }
   ],
   "source": [
    "names = [\"John\", \"Jane\", \"Mary\"]\n",
    "ages = [25, 23, 20]\n",
    "address = ['Lahore','Islamabad','bahawalpur']\n",
    "\n",
    "df = pd.DataFrame(zip(names, ages,address))\n",
    "\n",
    "print(df)"
   ]
  },
  {
   "cell_type": "code",
   "execution_count": 5,
   "metadata": {
    "id": "vqz0P4E6yr7N"
   },
   "outputs": [
    {
     "name": "stdout",
     "output_type": "stream",
     "text": [
      "  Libraries\n",
      "0    Python\n",
      "1    Pandas\n",
      "2     Numpy\n"
     ]
    }
   ],
   "source": [
    "import pandas as pd\n",
    "\n",
    "x = ['Python', 'Pandas' , 'Numpy']\n",
    "frame = {'Libraries' : ['Python' , 'Pandas' , 'Numpy']}\n",
    "df = pd.DataFrame(frame)\n",
    "\n",
    "print(df)"
   ]
  },
  {
   "cell_type": "markdown",
   "metadata": {},
   "source": [
    "### Another Method"
   ]
  },
  {
   "cell_type": "code",
   "execution_count": 6,
   "metadata": {
    "id": "Hh3Kb6NT4sZ1"
   },
   "outputs": [
    {
     "name": "stdout",
     "output_type": "stream",
     "text": [
      "   values\n",
      "0      11\n",
      "1      22\n",
      "2      33\n",
      "3      44\n",
      "4      55\n"
     ]
    }
   ],
   "source": [
    "import pandas as pd\n",
    "\n",
    "a = [11 , 22 , 33 , 44 , 55]\n",
    "frame = {'values' : a}\n",
    "df = pd.DataFrame(frame)\n",
    "print(df)"
   ]
  },
  {
   "cell_type": "code",
   "execution_count": 7,
   "metadata": {
    "id": "GDiZPdu3QShs"
   },
   "outputs": [
    {
     "name": "stdout",
     "output_type": "stream",
     "text": [
      "   Values\n",
      "0  Python\n",
      "1  Pandas\n",
      "2   Numpy\n"
     ]
    }
   ],
   "source": [
    "import pandas as pd\n",
    "\n",
    "x = ['Python', 'Pandas', 'Numpy']\n",
    "df = pd.DataFrame(x , columns=['Values'])\n",
    "\n",
    "print(df)"
   ]
  },
  {
   "cell_type": "markdown",
   "metadata": {},
   "source": [
    "### Another Method"
   ]
  },
  {
   "cell_type": "code",
   "execution_count": 8,
   "metadata": {
    "id": "R8sMIVqU5q03"
   },
   "outputs": [
    {
     "name": "stdout",
     "output_type": "stream",
     "text": [
      "  Languages\n",
      "0      java\n",
      "1       C++\n",
      "2   C sharp\n",
      "3    python\n"
     ]
    }
   ],
   "source": [
    "import pandas as pd\n",
    "a = ['java','C++','C sharp','python']\n",
    "df = pd.DataFrame(a , columns=['Languages'])\n",
    "print(df)\n"
   ]
  },
  {
   "cell_type": "markdown",
   "metadata": {
    "id": "WdSq2_1D08wz"
   },
   "source": [
    "**3. Create a DataFrame from Dict of ndarrays/ Lists:**"
   ]
  },
  {
   "cell_type": "code",
   "execution_count": 9,
   "metadata": {
    "id": "EZshXG-O1D6K"
   },
   "outputs": [
    {
     "name": "stdout",
     "output_type": "stream",
     "text": [
      "       name Department   ID\n",
      "0     Fahim       B.Sc  101\n",
      "1       Ali     B.Tech  102\n",
      "2  Abdullah     M.Tech  103\n"
     ]
    }
   ],
   "source": [
    "import pandas as pd\n",
    "info ={'name' : ['Fahim','Ali','Abdullah'],   'Department' :['B.Sc','B.Tech','M.Tech']\n",
    "       ,  'ID' : [101, 102, 103]}\n",
    "df = pd.DataFrame(info)\n",
    "print (df)"
   ]
  },
  {
   "cell_type": "code",
   "execution_count": 10,
   "metadata": {
    "id": "TNvxP_gX6rko"
   },
   "outputs": [
    {
     "name": "stdout",
     "output_type": "stream",
     "text": [
      "      name  class  RollNo\n",
      "0  zeeshan      8       1\n",
      "1      ali      9       2\n",
      "2  rooshan     11       3\n",
      "3     khan     12       4\n"
     ]
    }
   ],
   "source": [
    "import pandas as pd\n",
    "a = {'name' : ['zeeshan','ali','rooshan','khan'] , 'class' : [8,9,11,12] , 'RollNo' : [1,2,3,4]}\n",
    "frame = pd.DataFrame(a)\n",
    "print(frame)"
   ]
  },
  {
   "cell_type": "markdown",
   "metadata": {
    "id": "qFuOxIz9XtFO"
   },
   "source": [
    "**4. Create a DataFrame using Numpy ndarrrays**"
   ]
  },
  {
   "cell_type": "markdown",
   "metadata": {
    "id": "s3nvXIQMYBlJ"
   },
   "source": [
    "**Example 1: Creating a DataFrame with a single-dimensional ndarray**"
   ]
  },
  {
   "cell_type": "code",
   "execution_count": 11,
   "metadata": {
    "id": "TuoiEgl8YMrB"
   },
   "outputs": [
    {
     "name": "stdout",
     "output_type": "stream",
     "text": [
      "   Values\n",
      "0      10\n",
      "1      20\n",
      "2      30\n",
      "3      40\n",
      "4      50\n"
     ]
    }
   ],
   "source": [
    "import numpy as np\n",
    "import pandas as pd\n",
    "\n",
    "# Create a 1D NumPy ndarray with values\n",
    "data = np.array([10, 20, 30, 40, 50])\n",
    "\n",
    "# Create a DataFrame from the ndarray\n",
    "df = pd.DataFrame(data,columns=['Values'])\n",
    "\n",
    "print(df)\n"
   ]
  },
  {
   "cell_type": "code",
   "execution_count": 12,
   "metadata": {
    "id": "-gK1WnQsP6wu"
   },
   "outputs": [
    {
     "name": "stdout",
     "output_type": "stream",
     "text": [
      "    y\n",
      "0  10\n",
      "1  20\n",
      "2  30\n",
      "3  40\n",
      "4  50\n"
     ]
    }
   ],
   "source": [
    "import numpy as np\n",
    "import pandas as pd\n",
    "\n",
    "# Create a 1D NumPy ndarray with values\n",
    "data = np.array([10, 20, 30, 40, 50])\n",
    "frame ={'y':data}\n",
    "# Create a DataFrame from the ndarray\n",
    "df = pd.DataFrame(frame)\n",
    "\n",
    "print(df)"
   ]
  },
  {
   "cell_type": "markdown",
   "metadata": {
    "id": "w_h43ydfYnSD"
   },
   "source": [
    "**Example 2: Creating a DataFrame with multiple one-dimensional ndarrays**"
   ]
  },
  {
   "cell_type": "code",
   "execution_count": 13,
   "metadata": {
    "id": "FBFZJSp3Y0Ly"
   },
   "outputs": [
    {
     "name": "stdout",
     "output_type": "stream",
     "text": [
      "   Col 1  Col 2\n",
      "0      6     11\n",
      "1      7     12\n",
      "2      8     13\n"
     ]
    }
   ],
   "source": [
    "import numpy as np\n",
    "import pandas as pd\n",
    "a = np.array([6,7,8])\n",
    "b = np.array([11,12,13])\n",
    "df = pd.DataFrame({'Col 1' : a , 'Col 2' : b})\n",
    "print(df)"
   ]
  },
  {
   "cell_type": "code",
   "execution_count": 14,
   "metadata": {
    "id": "xHuJXfTiRjW7"
   },
   "outputs": [
    {
     "name": "stdout",
     "output_type": "stream",
     "text": [
      "   Col 1  Col 2\n",
      "0      6     11\n",
      "1      7     12\n",
      "2      8     13\n"
     ]
    }
   ],
   "source": [
    "import numpy as np\n",
    "import pandas as pd\n",
    "a = np.array([6,7,8])\n",
    "b = np.array([11,12,13])\n",
    "df = pd.DataFrame({'Col 1':a, 'Col 2':b})\n",
    "print(df)"
   ]
  },
  {
   "cell_type": "markdown",
   "metadata": {
    "id": "AQFS0AjdbKFV"
   },
   "source": [
    "**Example 3: Creating a DataFrame with a two-dimensional ndarray**"
   ]
  },
  {
   "cell_type": "code",
   "execution_count": 15,
   "metadata": {
    "id": "yYUf2yAnbMMP"
   },
   "outputs": [
    {
     "name": "stdout",
     "output_type": "stream",
     "text": [
      "   Column1  Column2  Column3\n",
      "0        1        2        3\n",
      "1        4        5        6\n",
      "2        7        8        9\n"
     ]
    }
   ],
   "source": [
    "import numpy as np\n",
    "import pandas as pd\n",
    "\n",
    "# Create a 2D NumPy ndarray with values\n",
    "data = np.array([[1, 2, 3], [4, 5, 6], [7, 8, 9]])\n",
    "# Create a DataFrame from the ndarray\n",
    "df = pd.DataFrame(data, columns=['Column1', 'Column2', 'Column3'])\n",
    "\n",
    "print(df)\n"
   ]
  },
  {
   "cell_type": "code",
   "execution_count": 16,
   "metadata": {
    "id": "ZV-Ec9mC4WAD"
   },
   "outputs": [
    {
     "name": "stdout",
     "output_type": "stream",
     "text": [
      "   Values\n",
      "0       1\n",
      "1       2\n",
      "2       3\n",
      "3       4\n",
      "4       5\n",
      "5       6\n",
      "6       7\n",
      "7       8\n",
      "8       9\n"
     ]
    }
   ],
   "source": [
    "import numpy as np\n",
    "import pandas as pd\n",
    "\n",
    "data = np.array([[1, 2, 3], [4, 5, 6], [7, 8, 9]])\n",
    "frame ={'Values' : data.flatten()}\n",
    "df = pd.DataFrame(frame)\n",
    "print(df)"
   ]
  },
  {
   "cell_type": "markdown",
   "metadata": {
    "id": "QgqD_6JBblMA"
   },
   "source": [
    "**Example 4: Creating a DataFrame with multiple two-dimensional ndarrays**"
   ]
  },
  {
   "cell_type": "code",
   "execution_count": 17,
   "metadata": {
    "id": "CXbKzuT4bpKe"
   },
   "outputs": [
    {
     "name": "stdout",
     "output_type": "stream",
     "text": [
      "   Col 1  Col 2\n",
      "0      2      4\n",
      "1      3      7\n",
      "2      4      9\n",
      "3      7     11\n",
      "4      8     12\n",
      "5      9     13\n"
     ]
    }
   ],
   "source": [
    "import numpy as np\n",
    "import pandas as pd\n",
    "a = np.array([[2, 3, 4], [7, 8, 9]])\n",
    "b = np.array([[4, 7, 9], [11, 12, 13]])\n",
    "df = pd.DataFrame({'Col 1': a.flatten(), 'Col 2': b.flatten()})\n",
    "print(df)\n"
   ]
  },
  {
   "cell_type": "markdown",
   "metadata": {
    "id": "9cUHTFn32ooF"
   },
   "source": [
    "**5. Create a DataFrame from Dict of Series:**"
   ]
  },
  {
   "cell_type": "markdown",
   "metadata": {
    "id": "ekNcqSnYTaeU"
   },
   "source": [
    "**Example 01:  Create one Series with data**"
   ]
  },
  {
   "cell_type": "code",
   "execution_count": 18,
   "metadata": {
    "id": "8c85GjTISFIN"
   },
   "outputs": [
    {
     "name": "stdout",
     "output_type": "stream",
     "text": [
      "   Columns\n",
      "a       10\n",
      "b       20\n",
      "c       30\n",
      "d       40\n",
      "e       50\n",
      "f        1\n",
      "g        2\n",
      "h        3\n",
      "i        4\n",
      "j        5\n"
     ]
    }
   ],
   "source": [
    "import pandas as pd\n",
    "import numpy as np\n",
    "\n",
    "series1 = np.array([[10, 20, 30, 40, 50],[1,2,3,4,5]])\n",
    "df = pd.DataFrame({'Columns' : series1.flatten()} , index=['a','b','c','d','e','f','g','h','i','j'])\n",
    "print(df)"
   ]
  },
  {
   "cell_type": "code",
   "execution_count": 19,
   "metadata": {
    "id": "t1J-5WEZgBOh"
   },
   "outputs": [
    {
     "name": "stdout",
     "output_type": "stream",
     "text": [
      "   Col\n",
      "1   10\n",
      "2   20\n",
      "3   30\n",
      "4   40\n",
      "5   50\n",
      "6    1\n",
      "7    2\n",
      "8    3\n",
      "9    4\n",
      "0    5\n"
     ]
    }
   ],
   "source": [
    "import pandas as pd\n",
    "import numpy as np\n",
    "\n",
    "data = np.array([[10, 20, 30, 40, 50], [1, 2, 3, 4, 5]])\n",
    "#index = [1, 2, 3, 4, 5,6,7,8,9,0]\n",
    "df = pd.DataFrame({'Col': data.flatten()}, index=[1, 2, 3, 4, 5,6,7,8,9,0])\n",
    "print(df)"
   ]
  },
  {
   "cell_type": "code",
   "execution_count": 20,
   "metadata": {
    "id": "yh0HN7cF7i33"
   },
   "outputs": [
    {
     "name": "stdout",
     "output_type": "stream",
     "text": [
      "   Values\n",
      "1      10\n",
      "2      20\n",
      "3      30\n",
      "4      40\n",
      "5      50\n"
     ]
    }
   ],
   "source": [
    "import pandas as pd\n",
    "series1 = pd.Series([10, 20, 30, 40, 50],index=[1, 2, 3, 4, 5])\n",
    "df = pd.DataFrame(series1,columns=['Values'])\n",
    "print(df)"
   ]
  },
  {
   "cell_type": "markdown",
   "metadata": {
    "id": "DJshIp0KXGP4"
   },
   "source": [
    "**Example 02:  Create three Series with data**"
   ]
  },
  {
   "cell_type": "code",
   "execution_count": 21,
   "metadata": {
    "id": "4ME4rhRzXQMP"
   },
   "outputs": [
    {
     "data": {
      "text/html": [
       "<div>\n",
       "<style scoped>\n",
       "    .dataframe tbody tr th:only-of-type {\n",
       "        vertical-align: middle;\n",
       "    }\n",
       "\n",
       "    .dataframe tbody tr th {\n",
       "        vertical-align: top;\n",
       "    }\n",
       "\n",
       "    .dataframe thead th {\n",
       "        text-align: right;\n",
       "    }\n",
       "</style>\n",
       "<table border=\"1\" class=\"dataframe\">\n",
       "  <thead>\n",
       "    <tr style=\"text-align: right;\">\n",
       "      <th></th>\n",
       "      <th>Names</th>\n",
       "      <th>Ages</th>\n",
       "      <th>Years</th>\n",
       "    </tr>\n",
       "  </thead>\n",
       "  <tbody>\n",
       "    <tr>\n",
       "      <th>a</th>\n",
       "      <td>Waqas</td>\n",
       "      <td>27</td>\n",
       "      <td>1997</td>\n",
       "    </tr>\n",
       "    <tr>\n",
       "      <th>b</th>\n",
       "      <td>Mudasir</td>\n",
       "      <td>30</td>\n",
       "      <td>1993</td>\n",
       "    </tr>\n",
       "    <tr>\n",
       "      <th>c</th>\n",
       "      <td>Shahzad</td>\n",
       "      <td>40</td>\n",
       "      <td>1983</td>\n",
       "    </tr>\n",
       "  </tbody>\n",
       "</table>\n",
       "</div>"
      ],
      "text/plain": [
       "     Names  Ages  Years\n",
       "a    Waqas    27   1997\n",
       "b  Mudasir    30   1993\n",
       "c  Shahzad    40   1983"
      ]
     },
     "execution_count": 21,
     "metadata": {},
     "output_type": "execute_result"
    }
   ],
   "source": [
    "import pandas as pd\n",
    "\n",
    "Series1 = pd.Series(['Waqas','Mudasir','Shahzad'], index =['a', 'b', 'c'])\n",
    "Series2 = pd.Series([27, 30, 40], index =['a', 'b', 'c'])\n",
    "Series3 = pd.Series([1997,1993,1983], index =['a', 'b', 'c'])\n",
    "\n",
    "df = pd.DataFrame({'Names':Series1,'Ages':Series2,'Years':Series3})\n",
    "df"
   ]
  },
  {
   "cell_type": "markdown",
   "metadata": {
    "id": "iB5MyjHDbLsx"
   },
   "source": [
    "**Example 3: Create  Series with Dictionary**"
   ]
  },
  {
   "cell_type": "code",
   "execution_count": 22,
   "metadata": {
    "id": "Ci9vWoWS2rTr"
   },
   "outputs": [
    {
     "name": "stdout",
     "output_type": "stream",
     "text": [
      "   one  two\n",
      "a  1.0    1\n",
      "b  2.0    2\n",
      "c  3.0    3\n",
      "d  4.0    4\n",
      "e  5.0    5\n",
      "f  6.0    6\n",
      "g  NaN    7\n",
      "h  NaN    8\n"
     ]
    }
   ],
   "source": [
    "# importing the pandas library\n",
    "import pandas as pd\n",
    "\n",
    "info = {'one' :pd.Series([1, 2, 3, 4, 5, 6], index=['a', 'b', 'c', 'd', 'e', 'f']),\n",
    "        'two' :pd.Series([1, 2, 3, 4, 5, 6, 7, 8], index=['a', 'b', 'c', 'd', 'e', 'f', 'g', 'h'])}\n",
    "df = pd.DataFrame(info)\n",
    "print (df)"
   ]
  },
  {
   "cell_type": "code",
   "execution_count": 23,
   "metadata": {
    "id": "LchtRPtSte1z"
   },
   "outputs": [
    {
     "name": "stdout",
     "output_type": "stream",
     "text": [
      "   one  two\n",
      "a  1.0    1\n",
      "b  2.0    2\n",
      "c  3.0    3\n",
      "d  4.0    4\n",
      "e  5.0    5\n",
      "f  6.0    6\n",
      "g  NaN    7\n",
      "h  NaN    8\n"
     ]
    }
   ],
   "source": [
    "import pandas as pd\n",
    "\n",
    "info =pd.DataFrame({'one' :pd.Series([1, 2, 3, 4, 5, 6], index=['a', 'b', 'c', 'd', 'e', 'f']),\n",
    "        'two' :pd.Series([1, 2, 3, 4, 5, 6, 7, 8], index=['a', 'b', 'c', 'd', 'e', 'f', 'g', 'h'])})\n",
    "print (info)"
   ]
  },
  {
   "cell_type": "markdown",
   "metadata": {
    "id": "OKbSMLQG4McD"
   },
   "source": [
    "**Column Selection:**"
   ]
  },
  {
   "cell_type": "code",
   "execution_count": 24,
   "metadata": {
    "id": "-TTbSizF4dAr"
   },
   "outputs": [
    {
     "name": "stdout",
     "output_type": "stream",
     "text": [
      "   one  two\n",
      "a  1.0    1\n",
      "b  2.0    2\n",
      "c  3.0    3\n",
      "d  4.0    4\n",
      "e  5.0    5\n",
      "f  6.0    6\n",
      "g  NaN    7\n",
      "h  NaN    8\n",
      "\n",
      "a    1\n",
      "b    2\n",
      "c    3\n",
      "d    4\n",
      "e    5\n",
      "f    6\n",
      "g    7\n",
      "h    8\n",
      "Name: two, dtype: int64\n"
     ]
    }
   ],
   "source": [
    "# importing the pandas library\n",
    "import pandas as pd\n",
    "info = {'one' : pd.Series([1, 2, 3, 4, 5, 6], index=['a', 'b', 'c', 'd', 'e', 'f']),\n",
    "   'two' : pd.Series([1, 2, 3, 4, 5, 6, 7, 8], index=['a', 'b', 'c', 'd', 'e', 'f', 'g', 'h'])}\n",
    "df = pd.DataFrame(info)\n",
    "print(df)\n",
    "print()\n",
    "print(df['two'])"
   ]
  },
  {
   "cell_type": "markdown",
   "metadata": {
    "id": "Hfvc-95b5o8j"
   },
   "source": [
    "**Column Addition:**"
   ]
  },
  {
   "cell_type": "code",
   "execution_count": 25,
   "metadata": {
    "id": "Qulmb82P6gL7"
   },
   "outputs": [
    {
     "name": "stdout",
     "output_type": "stream",
     "text": [
      "   one  two\n",
      "a  1.0    1\n",
      "b  2.0    2\n",
      "c  3.0    3\n",
      "d  4.0    4\n",
      "e  5.0    5\n",
      "f  NaN    6\n",
      "\n",
      "Add new column by passing series\n",
      "   one  two  three\n",
      "a  1.0    1   20.0\n",
      "b  2.0    2   40.0\n",
      "c  3.0    3   60.0\n",
      "d  4.0    4    NaN\n",
      "e  5.0    5    NaN\n",
      "f  NaN    6    NaN\n"
     ]
    }
   ],
   "source": [
    "\n",
    "import pandas as pd\n",
    "info = {'one' : pd.Series([1, 2, 3, 4, 5], index=['a', 'b', 'c', 'd', 'e']),'two' : pd.Series([1, 2, 3, 4, 5, 6], index=['a', 'b', 'c', 'd', 'e', 'f'])}\n",
    "df = pd.DataFrame(info)\n",
    "print(df)\n",
    "\n",
    "print()\n",
    "\n",
    "print (\"Add new column by passing series\")\n",
    "df['three']=pd.Series([20,40,60] , index=['a','b','c'])\n",
    "print (df)"
   ]
  },
  {
   "cell_type": "code",
   "execution_count": 26,
   "metadata": {
    "id": "s-HdPLROqgqA"
   },
   "outputs": [
    {
     "name": "stdout",
     "output_type": "stream",
     "text": [
      "Add new column using existing DataFrame columns\n",
      "   one  two  three  four\n",
      "a  1.0    1   20.0   5.0\n",
      "b  2.0    2   40.0   6.0\n",
      "c  3.0    3   60.0   7.0\n",
      "d  4.0    4    NaN   8.0\n",
      "e  5.0    5    NaN   NaN\n",
      "f  NaN    6    NaN   NaN\n"
     ]
    }
   ],
   "source": [
    "print (\"Add new column using existing DataFrame columns\")\n",
    "df['four']=pd.Series([5 ,6, 7,8],index = ['a','b','c','d'] )\n",
    "print (df)"
   ]
  },
  {
   "cell_type": "code",
   "execution_count": 27,
   "metadata": {
    "id": "ZiaoyT3gtyoA"
   },
   "outputs": [],
   "source": [
    "#print (\"Add new column using existing DataFrame columns\")\n",
    "#df = {'five'=pd.serise(df['three']:[1,2,3,4,5] + df['four']:[6,7,8,9,0])}\n",
    "#print (df)"
   ]
  },
  {
   "cell_type": "code",
   "execution_count": 28,
   "metadata": {
    "id": "q6SHsRx6oQx2"
   },
   "outputs": [
    {
     "data": {
      "text/html": [
       "<div>\n",
       "<style scoped>\n",
       "    .dataframe tbody tr th:only-of-type {\n",
       "        vertical-align: middle;\n",
       "    }\n",
       "\n",
       "    .dataframe tbody tr th {\n",
       "        vertical-align: top;\n",
       "    }\n",
       "\n",
       "    .dataframe thead th {\n",
       "        text-align: right;\n",
       "    }\n",
       "</style>\n",
       "<table border=\"1\" class=\"dataframe\">\n",
       "  <thead>\n",
       "    <tr style=\"text-align: right;\">\n",
       "      <th></th>\n",
       "      <th>one</th>\n",
       "      <th>two</th>\n",
       "      <th>three</th>\n",
       "      <th>four</th>\n",
       "      <th>five</th>\n",
       "    </tr>\n",
       "  </thead>\n",
       "  <tbody>\n",
       "    <tr>\n",
       "      <th>a</th>\n",
       "      <td>1.0</td>\n",
       "      <td>1</td>\n",
       "      <td>20.0</td>\n",
       "      <td>5.0</td>\n",
       "      <td>25.0</td>\n",
       "    </tr>\n",
       "    <tr>\n",
       "      <th>b</th>\n",
       "      <td>2.0</td>\n",
       "      <td>2</td>\n",
       "      <td>40.0</td>\n",
       "      <td>6.0</td>\n",
       "      <td>46.0</td>\n",
       "    </tr>\n",
       "    <tr>\n",
       "      <th>c</th>\n",
       "      <td>3.0</td>\n",
       "      <td>3</td>\n",
       "      <td>60.0</td>\n",
       "      <td>7.0</td>\n",
       "      <td>67.0</td>\n",
       "    </tr>\n",
       "    <tr>\n",
       "      <th>d</th>\n",
       "      <td>4.0</td>\n",
       "      <td>4</td>\n",
       "      <td>NaN</td>\n",
       "      <td>8.0</td>\n",
       "      <td>NaN</td>\n",
       "    </tr>\n",
       "    <tr>\n",
       "      <th>e</th>\n",
       "      <td>5.0</td>\n",
       "      <td>5</td>\n",
       "      <td>NaN</td>\n",
       "      <td>NaN</td>\n",
       "      <td>NaN</td>\n",
       "    </tr>\n",
       "    <tr>\n",
       "      <th>f</th>\n",
       "      <td>NaN</td>\n",
       "      <td>6</td>\n",
       "      <td>NaN</td>\n",
       "      <td>NaN</td>\n",
       "      <td>NaN</td>\n",
       "    </tr>\n",
       "  </tbody>\n",
       "</table>\n",
       "</div>"
      ],
      "text/plain": [
       "   one  two  three  four  five\n",
       "a  1.0    1   20.0   5.0  25.0\n",
       "b  2.0    2   40.0   6.0  46.0\n",
       "c  3.0    3   60.0   7.0  67.0\n",
       "d  4.0    4    NaN   8.0   NaN\n",
       "e  5.0    5    NaN   NaN   NaN\n",
       "f  NaN    6    NaN   NaN   NaN"
      ]
     },
     "execution_count": 28,
     "metadata": {},
     "output_type": "execute_result"
    }
   ],
   "source": [
    "df['five']=df['three'] + df['four']\n",
    "df"
   ]
  },
  {
   "cell_type": "markdown",
   "metadata": {
    "id": "lDnzK11xQu5k"
   },
   "source": [
    "**Column Deletion:**"
   ]
  },
  {
   "cell_type": "code",
   "execution_count": 29,
   "metadata": {
    "id": "XDnwdNsRQ1WN"
   },
   "outputs": [
    {
     "name": "stdout",
     "output_type": "stream",
     "text": [
      "The DataFrame:\n",
      "   one  two\n",
      "a  1.0    1\n",
      "b  2.0    2\n",
      "c  NaN    3\n",
      "Delete the first column:\n",
      "   two\n",
      "a    1\n",
      "b    2\n",
      "c    3\n",
      "Delete the another column:\n",
      "Empty DataFrame\n",
      "Columns: []\n",
      "Index: [a, b, c]\n"
     ]
    }
   ],
   "source": [
    "import pandas as pd\n",
    "\n",
    "info = {'one' : pd.Series([1, 2], index= ['a', 'b']),'two' : pd.Series([1, 2, 3], index=['a', 'b', 'c'])}\n",
    "df = pd.DataFrame(info)\n",
    "print (\"The DataFrame:\")\n",
    "print (df)\n",
    "\n",
    "# using del function\n",
    "print (\"Delete the first column:\")\n",
    "del df['one']\n",
    "print (df)\n",
    "# using pop function\n",
    "print (\"Delete the another column:\")\n",
    "df.pop('two')\n",
    "print (df)"
   ]
  },
  {
   "cell_type": "code",
   "execution_count": 30,
   "metadata": {
    "id": "KTHy0dlusyeH"
   },
   "outputs": [
    {
     "name": "stdout",
     "output_type": "stream",
     "text": [
      "Dataframe of data : \n",
      "    one  two  three\n",
      "a  1.0  NaN    NaN\n",
      "b  9.0  NaN    NaN\n",
      "c  NaN  2.0    NaN\n",
      "d  NaN  8.0    NaN\n",
      "e  NaN  NaN    3.0\n",
      "f  NaN  NaN    7.0\n",
      "delete the first row : \n",
      "\n",
      "   two  three\n",
      "a  NaN    NaN\n",
      "b  NaN    NaN\n",
      "c  2.0    NaN\n",
      "d  8.0    NaN\n",
      "e  NaN    3.0\n",
      "f  NaN    7.0\n",
      "delete Secound column of dataframe\n",
      "   three\n",
      "a    NaN\n",
      "b    NaN\n",
      "c    NaN\n",
      "d    NaN\n",
      "e    3.0\n",
      "f    7.0\n"
     ]
    }
   ],
   "source": [
    "import pandas as pd\n",
    "data={'one': pd.Series([1,9], index=['a','b']),'two': pd.Series([2,8] , index=['c','d']),'three': pd.Series([3,7], index=['e','f'])}\n",
    "datafram=pd.DataFrame(data)\n",
    "print(\"Dataframe of data : \\n\",datafram)\n",
    "# delete first column using Del function\n",
    "print(\"delete the first row : \\n\")\n",
    "del datafram['one']\n",
    "print(datafram)\n",
    "# delete another column using pop function.\n",
    "print(\"delete Secound column of dataframe\")\n",
    "datafram.pop('two')\n",
    "print(datafram)\n"
   ]
  },
  {
   "cell_type": "markdown",
   "metadata": {
    "id": "XMoyiipDxOpf"
   },
   "source": [
    "**Remove Clumnn using Drop() function**"
   ]
  },
  {
   "cell_type": "code",
   "execution_count": 31,
   "metadata": {
    "id": "H-ETnwdaxapc"
   },
   "outputs": [
    {
     "name": "stdout",
     "output_type": "stream",
     "text": [
      "   Values\n",
      "0       1\n",
      "1       2\n",
      "2       3\n",
      "3       4\n",
      "Empty DataFrame\n",
      "Columns: []\n",
      "Index: [0, 1, 2, 3]\n"
     ]
    }
   ],
   "source": [
    "import pandas as pd\n",
    "\n",
    "df = pd.DataFrame({'Values': [1, 2, 3, 4]})\n",
    "print(df)\n",
    "\n",
    "df = df.drop('Values',axis=1)\n",
    "\n",
    "print(df)"
   ]
  },
  {
   "cell_type": "code",
   "execution_count": 32,
   "metadata": {
    "id": "RGC-BbwAdVbe"
   },
   "outputs": [
    {
     "name": "stdout",
     "output_type": "stream",
     "text": [
      "The DataFrame:\n",
      "   one  two\n",
      "a  1.0    1\n",
      "b  2.0    2\n",
      "c  NaN    3\n",
      "Delete the first column:\n",
      "   two\n",
      "a    1\n",
      "b    2\n",
      "c    3\n",
      "\n",
      "Empty DataFrame\n",
      "Columns: []\n",
      "Index: [a, b, c]\n"
     ]
    }
   ],
   "source": [
    "import pandas as pd\n",
    "\n",
    "info = {'one' : pd.Series([1, 2], index = ['a', 'b']), 'two' : pd.Series([1, 2, 3], index = ['a', 'b', 'c'])}\n",
    "\n",
    "df = pd.DataFrame(info)\n",
    "print (\"The DataFrame:\")\n",
    "print (df)\n",
    "\n",
    "# using del function\n",
    "print (\"Delete the first column:\")\n",
    "del df['one']\n",
    "print (df)\n",
    "print()\n",
    "del df['two']\n",
    "print (df)"
   ]
  },
  {
   "cell_type": "markdown",
   "metadata": {
    "id": "1dkT3BMJTlfb"
   },
   "source": [
    "**Row Selection, Addition, and Deletion:**"
   ]
  },
  {
   "cell_type": "markdown",
   "metadata": {
    "id": "nQh9pRZyTuVW"
   },
   "source": [
    "**Row Selection:**"
   ]
  },
  {
   "cell_type": "code",
   "execution_count": 33,
   "metadata": {
    "id": "tkrKF1mhTwoI"
   },
   "outputs": [
    {
     "name": "stdout",
     "output_type": "stream",
     "text": [
      "   one  two\n",
      "a  1.0    1\n",
      "b  2.0    2\n",
      "c  3.0    3\n",
      "d  4.0    4\n",
      "e  5.0    5\n",
      "f  NaN    6\n",
      "\n",
      "one    NaN\n",
      "two    6.0\n",
      "Name: f, dtype: float64\n"
     ]
    }
   ],
   "source": [
    "# importing the pandas library\n",
    "import pandas as pd\n",
    "\n",
    "info = {'one' : pd.Series([1, 2, 3, 4, 5], index=['a', 'b', 'c', 'd', 'e']),\n",
    "   'two' : pd.Series([1, 2, 3, 4, 5, 6], index=['a', 'b', 'c', 'd', 'e', 'f'])}\n",
    "\n",
    "df = pd.DataFrame(info)\n",
    "print(df)\n",
    "print()\n",
    "print (df.loc['f'])"
   ]
  },
  {
   "cell_type": "code",
   "execution_count": 34,
   "metadata": {
    "id": "3V2VrqC9W-b4"
   },
   "outputs": [
    {
     "name": "stdout",
     "output_type": "stream",
     "text": [
      "   one  two\n",
      "a  1.0    1\n",
      "b  2.0    2\n",
      "c  3.0    3\n",
      "d  4.0    4\n",
      "e  5.0    5\n",
      "f  NaN    6\n",
      "\n",
      "Selection by integer location \n",
      "one    5.0\n",
      "two    5.0\n",
      "Name: e, dtype: float64\n"
     ]
    }
   ],
   "source": [
    "import pandas as pd\n",
    "info = {'one' : pd.Series([1, 2, 3, 4, 5], index=['a', 'b', 'c', 'd', 'e']),\n",
    "   'two' : pd.Series([1, 2, 3, 4, 5, 6], index=['a', 'b', 'c', 'd', 'e', 'f'])}\n",
    "df = pd.DataFrame(info)\n",
    "print(df)\n",
    "print()\n",
    "print(\"Selection by integer location \")  # integers count the indexes\n",
    "print (df.iloc[4])"
   ]
  },
  {
   "cell_type": "code",
   "execution_count": 35,
   "metadata": {
    "id": "tn79bDWyXw5o"
   },
   "outputs": [
    {
     "name": "stdout",
     "output_type": "stream",
     "text": [
      "   one  two\n",
      "a  1.0    1\n",
      "b  2.0    2\n",
      "c  3.0    3\n",
      "d  4.0    4\n",
      "e  5.0    5\n",
      "f  NaN    6\n",
      "\n",
      "Slice Rows\n",
      "   one  two\n",
      "c  3.0    3\n",
      "d  4.0    4\n",
      "e  5.0    5\n",
      "f  NaN    6\n"
     ]
    }
   ],
   "source": [
    "import pandas as pd\n",
    "info = {'one' : pd.Series([1, 2, 3, 4, 5], index=['a', 'b', 'c', 'd', 'e']),\n",
    "   'two' : pd.Series([1, 2, 3, 4, 5, 6], index=['a', 'b', 'c', 'd', 'e', 'f'])}\n",
    "df = pd.DataFrame(info)\n",
    "print(df)\n",
    "print()\n",
    "print(\"Slice Rows\")\n",
    "print (df[2:6])"
   ]
  },
  {
   "cell_type": "code",
   "execution_count": 36,
   "metadata": {
    "id": "bCsSbs7xGdxM"
   },
   "outputs": [
    {
     "name": "stdout",
     "output_type": "stream",
     "text": [
      "    Name  Age      City\n",
      "0   John   25  New York\n",
      "1  Alice   30    London\n",
      "2    Bob   35     Paris\n",
      "\n",
      "    Name  Age    City\n",
      "1  Alice   30  London\n",
      "2    Bob   35   Paris\n",
      "\n",
      "   Name  Age      City\n",
      "0  John   25  New York\n",
      "2   Bob   35     Paris\n"
     ]
    }
   ],
   "source": [
    "import pandas as pd\n",
    "\n",
    "# Creating a DataFrame\n",
    "data = {'Name': ['John', 'Alice', 'Bob'],'Age': [25, 30, 35],'City': ['New York', 'London', 'Paris']}\n",
    "\n",
    "df = pd.DataFrame(data)\n",
    "print(df)\n",
    "print()\n",
    "# Deleting the first row\n",
    "print(df.drop(0))\n",
    "print()\n",
    "print(df.drop(1))\n"
   ]
  },
  {
   "cell_type": "markdown",
   "metadata": {},
   "source": [
    "## Follow My Github Account : https://github.com/ZeshanFareed"
   ]
  }
 ],
 "metadata": {
  "colab": {
   "include_colab_link": true,
   "private_outputs": true,
   "provenance": []
  },
  "kernelspec": {
   "display_name": "Python 3 (ipykernel)",
   "language": "python",
   "name": "python3"
  },
  "language_info": {
   "codemirror_mode": {
    "name": "ipython",
    "version": 3
   },
   "file_extension": ".py",
   "mimetype": "text/x-python",
   "name": "python",
   "nbconvert_exporter": "python",
   "pygments_lexer": "ipython3",
   "version": "3.11.5"
  }
 },
 "nbformat": 4,
 "nbformat_minor": 4
}
